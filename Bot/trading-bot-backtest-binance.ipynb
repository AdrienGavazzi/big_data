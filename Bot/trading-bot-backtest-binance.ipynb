{
 "cells": [
  {
   "cell_type": "markdown",
   "metadata": {
    "colab_type": "text",
    "id": "view-in-github"
   },
   "source": [
    "<a href=\"https://colab.research.google.com/github/CryptoRobotFr/1-create-personnal-trading-bot/blob/main/trading-bot-backtest-binance.ipynb\" target=\"_parent\"><img src=\"https://colab.research.google.com/assets/colab-badge.svg\" alt=\"Open In Colab\"/></a>"
   ]
  },
  {
   "cell_type": "markdown",
   "metadata": {
    "id": "-nCTjinN1dXd"
   },
   "source": [
    "<h1>Package installation</h1>"
   ]
  },
  {
   "cell_type": "code",
   "execution_count": 1,
   "metadata": {
    "id": "FQpoFECiJiLG",
    "scrolled": true,
    "tags": []
   },
   "outputs": [
    {
     "name": "stdout",
     "output_type": "stream",
     "text": [
      "Collecting python-binance\n",
      "  Downloading python_binance-1.0.17-py2.py3-none-any.whl (67 kB)\n",
      "     |████████████████████████████████| 67 kB 4.5 MB/s             \n",
      "\u001b[?25hCollecting ujson\n",
      "  Downloading ujson-4.3.0-cp36-cp36m-manylinux_2_17_x86_64.manylinux2014_x86_64.whl (216 kB)\n",
      "     |████████████████████████████████| 216 kB 35.4 MB/s            \n",
      "\u001b[?25hCollecting websockets\n",
      "  Downloading websockets-9.1-cp36-cp36m-manylinux2010_x86_64.whl (102 kB)\n",
      "     |████████████████████████████████| 102 kB 12.4 MB/s           \n",
      "\u001b[?25hCollecting pycryptodome\n",
      "  Downloading pycryptodome-3.17-cp35-abi3-manylinux_2_17_x86_64.manylinux2014_x86_64.whl (2.1 MB)\n",
      "     |████████████████████████████████| 2.1 MB 48.2 MB/s            \n",
      "\u001b[?25hRequirement already satisfied: six in /usr/local/lib/python3.6/site-packages (from python-binance) (1.15.0)\n",
      "Collecting dateparser\n",
      "  Downloading dateparser-1.1.3-py2.py3-none-any.whl (292 kB)\n",
      "     |████████████████████████████████| 292 kB 29.2 MB/s            \n",
      "\u001b[?25hCollecting aiohttp\n",
      "  Downloading aiohttp-3.8.4-cp36-cp36m-manylinux_2_17_x86_64.manylinux2014_x86_64.whl (946 kB)\n",
      "     |████████████████████████████████| 946 kB 44.5 MB/s            \n",
      "\u001b[?25hRequirement already satisfied: requests in /usr/local/lib/python3.6/site-packages (from python-binance) (2.27.1)\n",
      "Requirement already satisfied: attrs>=17.3.0 in /usr/local/lib/python3.6/site-packages (from aiohttp->python-binance) (22.2.0)\n",
      "Collecting frozenlist>=1.1.1\n",
      "  Downloading frozenlist-1.2.0-cp36-cp36m-manylinux_2_5_x86_64.manylinux1_x86_64.manylinux_2_12_x86_64.manylinux2010_x86_64.whl (191 kB)\n",
      "     |████████████████████████████████| 191 kB 30.4 MB/s            \n",
      "\u001b[?25hCollecting asynctest==0.13.0\n",
      "  Downloading asynctest-0.13.0-py3-none-any.whl (26 kB)\n",
      "Requirement already satisfied: charset-normalizer<4.0,>=2.0 in /usr/local/lib/python3.6/site-packages (from aiohttp->python-binance) (2.0.12)\n",
      "Requirement already satisfied: typing-extensions>=3.7.4 in /usr/local/lib/python3.6/site-packages (from aiohttp->python-binance) (3.7.4.3)\n",
      "Collecting async-timeout<5.0,>=4.0.0a3\n",
      "  Downloading async_timeout-4.0.2-py3-none-any.whl (5.8 kB)\n",
      "Collecting multidict<7.0,>=4.5\n",
      "  Downloading multidict-5.2.0-cp36-cp36m-manylinux_2_5_x86_64.manylinux1_x86_64.manylinux_2_12_x86_64.manylinux2010_x86_64.whl (159 kB)\n",
      "     |████████████████████████████████| 159 kB 26.0 MB/s            \n",
      "\u001b[?25hCollecting yarl<2.0,>=1.0\n",
      "  Downloading yarl-1.7.2-cp36-cp36m-manylinux_2_5_x86_64.manylinux1_x86_64.manylinux_2_12_x86_64.manylinux2010_x86_64.whl (270 kB)\n",
      "     |████████████████████████████████| 270 kB 57.6 MB/s            \n",
      "\u001b[?25hCollecting aiosignal>=1.1.2\n",
      "  Downloading aiosignal-1.2.0-py3-none-any.whl (8.2 kB)\n",
      "Collecting idna-ssl>=1.0\n",
      "  Downloading idna-ssl-1.1.0.tar.gz (3.4 kB)\n",
      "  Preparing metadata (setup.py) ... \u001b[?25ldone\n",
      "\u001b[?25hRequirement already satisfied: pytz in /usr/local/lib/python3.6/site-packages (from dateparser->python-binance) (2022.7)\n",
      "Requirement already satisfied: python-dateutil in /usr/local/lib/python3.6/site-packages (from dateparser->python-binance) (2.8.2)\n",
      "Collecting tzlocal\n",
      "  Downloading tzlocal-4.2-py3-none-any.whl (19 kB)\n",
      "Collecting regex!=2019.02.19,!=2021.8.27,<2022.3.15\n",
      "  Downloading regex-2022.3.2-cp36-cp36m-manylinux_2_17_x86_64.manylinux2014_x86_64.whl (749 kB)\n",
      "     |████████████████████████████████| 749 kB 49.0 MB/s            \n",
      "\u001b[?25hRequirement already satisfied: certifi>=2017.4.17 in /usr/local/lib/python3.6/site-packages (from requests->python-binance) (2022.12.7)\n",
      "Requirement already satisfied: urllib3<1.27,>=1.21.1 in /usr/local/lib/python3.6/site-packages (from requests->python-binance) (1.26.13)\n",
      "Requirement already satisfied: idna<4,>=2.5 in /usr/local/lib/python3.6/site-packages (from requests->python-binance) (3.4)\n",
      "Collecting backports.zoneinfo\n",
      "  Downloading backports.zoneinfo-0.2.1-cp36-cp36m-manylinux1_x86_64.whl (70 kB)\n",
      "     |████████████████████████████████| 70 kB 10.3 MB/s            \n",
      "\u001b[?25hCollecting pytz-deprecation-shim\n",
      "  Downloading pytz_deprecation_shim-0.1.0.post0-py2.py3-none-any.whl (15 kB)\n",
      "Requirement already satisfied: importlib-resources in /usr/local/lib/python3.6/site-packages (from backports.zoneinfo->tzlocal->dateparser->python-binance) (5.4.0)\n",
      "Collecting tzdata\n",
      "  Downloading tzdata-2022.7-py2.py3-none-any.whl (340 kB)\n",
      "     |████████████████████████████████| 340 kB 51.6 MB/s            \n",
      "\u001b[?25hRequirement already satisfied: zipp>=3.1.0 in /usr/local/lib/python3.6/site-packages (from importlib-resources->backports.zoneinfo->tzlocal->dateparser->python-binance) (3.6.0)\n",
      "Building wheels for collected packages: idna-ssl\n",
      "  Building wheel for idna-ssl (setup.py) ... \u001b[?25ldone\n",
      "\u001b[?25h  Created wheel for idna-ssl: filename=idna_ssl-1.1.0-py3-none-any.whl size=3178 sha256=b68f7926ca7590797107045e01e71912f236be1180cb9bb94b20961a41dfe624\n",
      "  Stored in directory: /root/.cache/pip/wheels/6a/f5/9c/f8331a854f7a8739cf0e74c13854e4dd7b1af11b04fe1dde13\n",
      "Successfully built idna-ssl\n",
      "Installing collected packages: tzdata, backports.zoneinfo, pytz-deprecation-shim, multidict, frozenlist, yarl, tzlocal, regex, idna-ssl, asynctest, async-timeout, aiosignal, websockets, ujson, pycryptodome, dateparser, aiohttp, python-binance\n",
      "Successfully installed aiohttp-3.8.4 aiosignal-1.2.0 async-timeout-4.0.2 asynctest-0.13.0 backports.zoneinfo-0.2.1 dateparser-1.1.3 frozenlist-1.2.0 idna-ssl-1.1.0 multidict-5.2.0 pycryptodome-3.17 python-binance-1.0.17 pytz-deprecation-shim-0.1.0.post0 regex-2022.3.2 tzdata-2022.7 tzlocal-4.2 ujson-4.3.0 websockets-9.1 yarl-1.7.2\n",
      "\u001b[33mWARNING: Running pip as the 'root' user can result in broken permissions and conflicting behaviour with the system package manager. It is recommended to use a virtual environment instead: https://pip.pypa.io/warnings/venv\u001b[0m\n",
      "Note: you may need to restart the kernel to use updated packages.\n"
     ]
    }
   ],
   "source": [
    "pip install python-binance"
   ]
  },
  {
   "cell_type": "code",
   "execution_count": 2,
   "metadata": {
    "id": "jCqp0WHeLjZ-",
    "scrolled": true,
    "tags": []
   },
   "outputs": [
    {
     "name": "stdout",
     "output_type": "stream",
     "text": [
      "Collecting ta\n",
      "  Downloading ta-0.10.2.tar.gz (25 kB)\n",
      "  Preparing metadata (setup.py) ... \u001b[?25ldone\n",
      "\u001b[?25hRequirement already satisfied: numpy in /usr/local/lib/python3.6/site-packages (from ta) (1.19.5)\n",
      "Requirement already satisfied: pandas in /usr/local/lib/python3.6/site-packages (from ta) (1.1.5)\n",
      "Requirement already satisfied: pytz>=2017.2 in /usr/local/lib/python3.6/site-packages (from pandas->ta) (2022.7)\n",
      "Requirement already satisfied: python-dateutil>=2.7.3 in /usr/local/lib/python3.6/site-packages (from pandas->ta) (2.8.2)\n",
      "Requirement already satisfied: six>=1.5 in /usr/local/lib/python3.6/site-packages (from python-dateutil>=2.7.3->pandas->ta) (1.15.0)\n",
      "Building wheels for collected packages: ta\n",
      "  Building wheel for ta (setup.py) ... \u001b[?25ldone\n",
      "\u001b[?25h  Created wheel for ta: filename=ta-0.10.2-py3-none-any.whl size=29104 sha256=3cb0708feda6c1f98f2c3e16e54c1041137b673d8a2701bfe08b4c12e954d5ec\n",
      "  Stored in directory: /root/.cache/pip/wheels/a3/37/4f/24d1cbef32053992b8f8817970bd02d0994bfb68a9ce60c8c0\n",
      "Successfully built ta\n",
      "Installing collected packages: ta\n",
      "Successfully installed ta-0.10.2\n",
      "\u001b[33mWARNING: Running pip as the 'root' user can result in broken permissions and conflicting behaviour with the system package manager. It is recommended to use a virtual environment instead: https://pip.pypa.io/warnings/venv\u001b[0m\n",
      "Note: you may need to restart the kernel to use updated packages.\n"
     ]
    }
   ],
   "source": [
    "pip install ta"
   ]
  },
  {
   "cell_type": "markdown",
   "metadata": {
    "id": "G3kKKxoL1xNo"
   },
   "source": [
    "<h1>Import, define Client and dowload data</h1>"
   ]
  },
  {
   "cell_type": "code",
   "execution_count": 3,
   "metadata": {
    "id": "ix8j_V3gWOt5"
   },
   "outputs": [],
   "source": [
    "import pandas as pd\n",
    "from binance.client import Client\n",
    "import ta\n",
    "\n",
    "klinesT = Client().get_historical_klines(\"BTCUSDT\", Client.KLINE_INTERVAL_1HOUR, \"01 January 2017\")\n",
    "df = pd.DataFrame(klinesT, columns = ['timestamp', 'open', 'high', 'low', 'close', 'volume', 'close_time', 'quote_av', 'trades', 'tb_base_av', 'tb_quote_av', 'ignore' ])\n"
   ]
  },
  {
   "cell_type": "code",
   "execution_count": 4,
   "metadata": {
    "colab": {
     "base_uri": "https://localhost:8080/"
    },
    "id": "3rZgT34PLMDV",
    "outputId": "6bb40e42-dcff-445a-cf5f-934c8180c7eb"
   },
   "outputs": [
    {
     "name": "stdout",
     "output_type": "stream",
     "text": [
      "           timestamp            open            high             low  \\\n",
      "0      1502942400000   4261.48000000   4313.62000000   4261.32000000   \n",
      "1      1502946000000   4308.83000000   4328.69000000   4291.37000000   \n",
      "2      1502949600000   4330.29000000   4345.45000000   4309.37000000   \n",
      "3      1502953200000   4316.62000000   4349.99000000   4287.41000000   \n",
      "4      1502956800000   4333.32000000   4377.85000000   4333.32000000   \n",
      "...              ...             ...             ...             ...   \n",
      "48862  1679302800000  28313.85000000  28472.00000000  28020.00000000   \n",
      "48863  1679306400000  28198.05000000  28256.98000000  27919.66000000   \n",
      "48864  1679310000000  28101.40000000  28267.10000000  28037.99000000   \n",
      "48865  1679313600000  28188.95000000  28258.58000000  28078.01000000   \n",
      "48866  1679317200000  28223.49000000  28226.65000000  28099.99000000   \n",
      "\n",
      "                close          volume     close_time            quote_av  \\\n",
      "0       4308.83000000     47.18100900  1502945999999     202366.13839304   \n",
      "1       4315.32000000     23.23491600  1502949599999     100304.82356749   \n",
      "2       4324.35000000      7.22969100  1502953199999      31282.31266989   \n",
      "3       4349.99000000      4.44324900  1502956799999      19241.05829986   \n",
      "4       4360.69000000      0.97280700  1502960399999       4239.50358563   \n",
      "...               ...             ...            ...                 ...   \n",
      "48862  28198.04000000  27661.96626000  1679306399999  780653564.52454220   \n",
      "48863  28101.40000000  21245.97981000  1679309999999  597441373.16800490   \n",
      "48864  28188.93000000  18285.14466000  1679313599999  515045012.51264700   \n",
      "48865  28224.99000000  15270.64968000  1679317199999  430273736.63081070   \n",
      "48866  28147.41000000   3609.90986000  1679320799999  101595789.89643100   \n",
      "\n",
      "       trades      tb_base_av         tb_quote_av ignore  \n",
      "0         171     35.16050300     150952.47794304      0  \n",
      "1         102     21.44807100      92608.27972836      0  \n",
      "2          36      4.80286100      20795.31722405      0  \n",
      "3          25      2.60229200      11291.34701534      0  \n",
      "4          28      0.81465500       3552.74681715      0  \n",
      "...       ...             ...                 ...    ...  \n",
      "48862  620378  13814.35696000  389910984.89241670      0  \n",
      "48863  526511  10707.23942000  301113987.57580060      0  \n",
      "48864  464141   9180.13455000  258589506.95411870      0  \n",
      "48865  421899   7705.96784000  217138775.75091350      0  \n",
      "48866   84759   1793.42241000   50474920.82542490      0  \n",
      "\n",
      "[48867 rows x 12 columns]\n"
     ]
    }
   ],
   "source": [
    "print(df)"
   ]
  },
  {
   "cell_type": "markdown",
   "metadata": {
    "id": "j2qoKyrH1-E0"
   },
   "source": [
    "<h1>Clean Dataset</h1>"
   ]
  },
  {
   "cell_type": "code",
   "execution_count": 5,
   "metadata": {
    "colab": {
     "base_uri": "https://localhost:8080/"
    },
    "id": "1_qIvDVLWpHH",
    "outputId": "b2d84381-e4aa-4090-e3cc-69944b2b2832"
   },
   "outputs": [
    {
     "name": "stdout",
     "output_type": "stream",
     "text": [
      "           timestamp      open      high       low     close          volume\n",
      "0      1502942400000   4261.48   4313.62   4261.32   4308.83     47.18100900\n",
      "1      1502946000000   4308.83   4328.69   4291.37   4315.32     23.23491600\n",
      "2      1502949600000   4330.29   4345.45   4309.37   4324.35      7.22969100\n",
      "3      1502953200000   4316.62   4349.99   4287.41   4349.99      4.44324900\n",
      "4      1502956800000   4333.32   4377.85   4333.32   4360.69      0.97280700\n",
      "...              ...       ...       ...       ...       ...             ...\n",
      "48862  1679302800000  28313.85  28472.00  28020.00  28198.04  27661.96626000\n",
      "48863  1679306400000  28198.05  28256.98  27919.66  28101.40  21245.97981000\n",
      "48864  1679310000000  28101.40  28267.10  28037.99  28188.93  18285.14466000\n",
      "48865  1679313600000  28188.95  28258.58  28078.01  28224.99  15270.64968000\n",
      "48866  1679317200000  28223.49  28226.65  28099.99  28147.41   3609.90986000\n",
      "\n",
      "[48867 rows x 6 columns]\n"
     ]
    }
   ],
   "source": [
    "del df['ignore']\n",
    "del df['close_time']\n",
    "del df['quote_av']\n",
    "del df['trades']\n",
    "del df['tb_base_av']\n",
    "del df['tb_quote_av']\n",
    "\n",
    "df['close'] = pd.to_numeric(df['close'])\n",
    "df['high'] = pd.to_numeric(df['high'])\n",
    "df['low'] = pd.to_numeric(df['low'])\n",
    "df['open'] = pd.to_numeric(df['open'])\n",
    "print(df)"
   ]
  },
  {
   "cell_type": "markdown",
   "metadata": {
    "id": "aifRp6A32Rip"
   },
   "source": [
    "<h1>Convert time</h1>"
   ]
  },
  {
   "cell_type": "code",
   "execution_count": 6,
   "metadata": {
    "colab": {
     "base_uri": "https://localhost:8080/"
    },
    "id": "b-9luR8aW7-o",
    "outputId": "46974b07-aed4-4b42-9cc3-27577ff89fda"
   },
   "outputs": [
    {
     "name": "stdout",
     "output_type": "stream",
     "text": [
      "                         open      high       low     close          volume\n",
      "timestamp                                                                  \n",
      "2017-08-17 04:00:00   4261.48   4313.62   4261.32   4308.83     47.18100900\n",
      "2017-08-17 05:00:00   4308.83   4328.69   4291.37   4315.32     23.23491600\n",
      "2017-08-17 06:00:00   4330.29   4345.45   4309.37   4324.35      7.22969100\n",
      "2017-08-17 07:00:00   4316.62   4349.99   4287.41   4349.99      4.44324900\n",
      "2017-08-17 08:00:00   4333.32   4377.85   4333.32   4360.69      0.97280700\n",
      "...                       ...       ...       ...       ...             ...\n",
      "2023-03-20 09:00:00  28313.85  28472.00  28020.00  28198.04  27661.96626000\n",
      "2023-03-20 10:00:00  28198.05  28256.98  27919.66  28101.40  21245.97981000\n",
      "2023-03-20 11:00:00  28101.40  28267.10  28037.99  28188.93  18285.14466000\n",
      "2023-03-20 12:00:00  28188.95  28258.58  28078.01  28224.99  15270.64968000\n",
      "2023-03-20 13:00:00  28223.49  28226.65  28099.99  28147.41   3609.90986000\n",
      "\n",
      "[48867 rows x 5 columns]\n"
     ]
    }
   ],
   "source": [
    "df = df.set_index(df['timestamp'])\n",
    "df.index = pd.to_datetime(df.index, unit='ms')\n",
    "\n",
    "del df['timestamp']\n",
    "print(df)"
   ]
  },
  {
   "cell_type": "markdown",
   "metadata": {
    "id": "WF-auzhx2a0S"
   },
   "source": [
    "<h1>Define my indicators</h1>"
   ]
  },
  {
   "cell_type": "code",
   "execution_count": 7,
   "metadata": {
    "colab": {
     "base_uri": "https://localhost:8080/"
    },
    "id": "u9-_ogs6Ys_t",
    "outputId": "e8bd5b95-292b-474a-efab-cc010fca63ef"
   },
   "outputs": [
    {
     "name": "stdout",
     "output_type": "stream",
     "text": [
      "                         open      high       low     close          volume  \\\n",
      "timestamp                                                                     \n",
      "2017-08-17 04:00:00   4261.48   4313.62   4261.32   4308.83     47.18100900   \n",
      "2017-08-17 05:00:00   4308.83   4328.69   4291.37   4315.32     23.23491600   \n",
      "2017-08-17 06:00:00   4330.29   4345.45   4309.37   4324.35      7.22969100   \n",
      "2017-08-17 07:00:00   4316.62   4349.99   4287.41   4349.99      4.44324900   \n",
      "2017-08-17 08:00:00   4333.32   4377.85   4333.32   4360.69      0.97280700   \n",
      "...                       ...       ...       ...       ...             ...   \n",
      "2023-03-20 09:00:00  28313.85  28472.00  28020.00  28198.04  27661.96626000   \n",
      "2023-03-20 10:00:00  28198.05  28256.98  27919.66  28101.40  21245.97981000   \n",
      "2023-03-20 11:00:00  28101.40  28267.10  28037.99  28188.93  18285.14466000   \n",
      "2023-03-20 12:00:00  28188.95  28258.58  28078.01  28224.99  15270.64968000   \n",
      "2023-03-20 13:00:00  28223.49  28226.65  28099.99  28147.41   3609.90986000   \n",
      "\n",
      "                          SMA200        SMA600  \n",
      "timestamp                                       \n",
      "2017-08-17 04:00:00          NaN           NaN  \n",
      "2017-08-17 05:00:00          NaN           NaN  \n",
      "2017-08-17 06:00:00          NaN           NaN  \n",
      "2017-08-17 07:00:00          NaN           NaN  \n",
      "2017-08-17 08:00:00          NaN           NaN  \n",
      "...                          ...           ...  \n",
      "2023-03-20 09:00:00  25046.12750  23346.704283  \n",
      "2023-03-20 10:00:00  25084.74850  23353.113417  \n",
      "2023-03-20 11:00:00  25123.81085  23360.461300  \n",
      "2023-03-20 12:00:00  25163.00085  23367.649467  \n",
      "2023-03-20 13:00:00  25201.96450  23374.544767  \n",
      "\n",
      "[48867 rows x 7 columns]\n"
     ]
    }
   ],
   "source": [
    "df['SMA200'] = ta.trend.sma_indicator(df['close'], 200)\n",
    "df['SMA600'] = ta.trend.sma_indicator(df['close'], 600)\n",
    "print(df)"
   ]
  },
  {
   "cell_type": "markdown",
   "metadata": {
    "id": "QWPklOAZ2fG-"
   },
   "source": [
    "<h1>Make backtest</h1>"
   ]
  },
  {
   "cell_type": "code",
   "execution_count": 8,
   "metadata": {
    "colab": {
     "base_uri": "https://localhost:8080/"
    },
    "id": "EHrS5HNwZGJ8",
    "outputId": "cd119ac0-b820-4309-ed5b-b3b0af4d5650",
    "scrolled": true,
    "tags": []
   },
   "outputs": [
    {
     "name": "stdout",
     "output_type": "stream",
     "text": [
      "Buy BTC at 4176.24 $ the 2017-09-11 10:00:00\n",
      "Sell BTC at 4259.44 $ the 2017-09-12 13:00:00\n",
      "Buy BTC at 4302.02 $ the 2017-10-01 08:00:00\n",
      "Sell BTC at 16351.02 $ the 2017-12-27 05:00:00\n",
      "Buy BTC at 14219.61 $ the 2018-01-10 06:00:00\n",
      "Sell BTC at 14195.0 $ the 2018-01-15 12:00:00\n",
      "Buy BTC at 11082.94 $ the 2018-02-19 18:00:00\n",
      "Sell BTC at 8704.0 $ the 2018-03-11 07:00:00\n",
      "Buy BTC at 8018.98 $ the 2018-04-16 21:00:00\n",
      "Sell BTC at 8665.97 $ the 2018-05-14 00:00:00\n",
      "Buy BTC at 6584.36 $ the 2018-07-07 10:00:00\n",
      "Sell BTC at 7087.99 $ the 2018-08-07 11:00:00\n",
      "Buy BTC at 6902.74 $ the 2018-08-28 04:00:00\n",
      "Sell BTC at 6355.0 $ the 2018-09-11 03:00:00\n",
      "Buy BTC at 6669.36 $ the 2018-09-27 19:00:00\n",
      "Sell BTC at 6309.02 $ the 2018-10-12 22:00:00\n",
      "Buy BTC at 6573.58 $ the 2018-10-20 10:00:00\n",
      "Sell BTC at 6491.85 $ the 2018-10-28 10:00:00\n",
      "Buy BTC at 4125.4 $ the 2018-12-24 04:00:00\n",
      "Sell BTC at 3588.24 $ the 2019-01-13 02:00:00\n",
      "Buy BTC at 3626.58 $ the 2019-02-12 04:00:00\n",
      "Sell BTC at 7660.98 $ the 2019-06-09 18:00:00\n",
      "Buy BTC at 9105.21 $ the 2019-06-17 06:00:00\n",
      "Sell BTC at 9431.52 $ the 2019-07-17 04:00:00\n",
      "Buy BTC at 11692.8 $ the 2019-08-06 01:00:00\n",
      "Sell BTC at 10886.0 $ the 2019-08-20 01:00:00\n",
      "Buy BTC at 10541.4 $ the 2019-09-08 03:00:00\n",
      "Sell BTC at 10028.87 $ the 2019-09-22 23:00:00\n",
      "Buy BTC at 9660.0 $ the 2019-10-27 17:00:00\n",
      "Sell BTC at 8564.64 $ the 2019-11-15 05:00:00\n",
      "Buy BTC at 7206.3 $ the 2019-12-27 00:00:00\n",
      "Sell BTC at 9601.09 $ the 2020-02-24 19:00:00\n",
      "Buy BTC at 6368.68 $ the 2020-04-01 03:00:00\n",
      "Sell BTC at 8859.62 $ the 2020-05-27 04:00:00\n",
      "Buy BTC at 10115.56 $ the 2020-06-02 11:00:00\n",
      "Sell BTC at 9403.01 $ the 2020-06-18 13:00:00\n",
      "Buy BTC at 9290.23 $ the 2020-07-13 18:00:00\n",
      "Sell BTC at 9117.69 $ the 2020-07-17 10:00:00\n",
      "Buy BTC at 9164.57 $ the 2020-07-18 16:00:00\n",
      "Sell BTC at 11400.12 $ the 2020-08-27 01:00:00\n",
      "Buy BTC at 10417.22 $ the 2020-09-21 23:00:00\n",
      "Sell BTC at 10571.36 $ the 2020-10-06 19:00:00\n",
      "Buy BTC at 11363.33 $ the 2020-10-10 18:00:00\n",
      "Sell BTC at 32801.15 $ the 2021-01-24 07:00:00\n",
      "Buy BTC at 37366.02 $ the 2021-02-05 03:00:00\n",
      "Sell BTC at 47789.87 $ the 2021-03-02 22:00:00\n",
      "Buy BTC at 54632.79 $ the 2021-03-10 08:00:00\n",
      "Sell BTC at 57854.32 $ the 2021-03-29 11:00:00\n",
      "Buy BTC at 58670.64 $ the 2021-04-02 20:00:00\n",
      "Sell BTC at 54744.24 $ the 2021-04-22 14:00:00\n",
      "Buy BTC at 57584.01 $ the 2021-05-07 19:00:00\n",
      "Sell BTC at 47964.69 $ the 2021-05-15 22:00:00\n",
      "Buy BTC at 39952.7 $ the 2021-06-16 09:00:00\n",
      "Sell BTC at 33982.26 $ the 2021-06-23 07:00:00\n",
      "Buy BTC at 38242.96 $ the 2021-07-27 14:00:00\n",
      "Sell BTC at 45150.33 $ the 2021-09-12 06:00:00\n",
      "Buy BTC at 49476.51 $ the 2021-10-05 07:00:00\n",
      "Sell BTC at 56989.77 $ the 2021-11-19 09:00:00\n",
      "Buy BTC at 51450.57 $ the 2021-12-27 15:00:00\n",
      "Sell BTC at 46999.98 $ the 2022-01-03 02:00:00\n",
      "Buy BTC at 44065.25 $ the 2022-02-07 18:00:00\n",
      "Sell BTC at 38137.91 $ the 2022-02-23 00:00:00\n",
      "Buy BTC at 39387.57 $ the 2022-03-06 07:00:00\n",
      "Sell BTC at 39316.99 $ the 2022-03-10 21:00:00\n",
      "Buy BTC at 41062.31 $ the 2022-03-17 05:00:00\n",
      "Sell BTC at 40776.38 $ the 2022-03-17 17:00:00\n",
      "Buy BTC at 42191.28 $ the 2022-03-19 20:00:00\n",
      "Sell BTC at 40803.87 $ the 2022-04-11 14:00:00\n",
      "Buy BTC at 30425.0 $ the 2022-06-03 04:00:00\n",
      "Sell BTC at 27932.6 $ the 2022-06-12 16:00:00\n",
      "Buy BTC at 20987.27 $ the 2022-07-10 20:00:00\n",
      "Sell BTC at 21229.52 $ the 2022-08-21 05:00:00\n",
      "Buy BTC at 20246.35 $ the 2022-09-13 18:00:00\n",
      "Sell BTC at 18766.83 $ the 2022-09-20 17:00:00\n",
      "Buy BTC at 19973.75 $ the 2022-10-07 08:00:00\n",
      "Sell BTC at 19187.86 $ the 2022-10-15 04:00:00\n",
      "Buy BTC at 20719.26 $ the 2022-10-27 06:00:00\n",
      "Sell BTC at 18108.48 $ the 2022-11-10 20:00:00\n",
      "Buy BTC at 16934.23 $ the 2022-12-03 20:00:00\n",
      "Sell BTC at 16591.96 $ the 2022-12-22 17:00:00\n",
      "Buy BTC at 17205.95 $ the 2023-01-09 05:00:00\n",
      "Sell BTC at 21816.37 $ the 2023-02-12 00:00:00\n",
      "Buy BTC at 24758.6 $ the 2023-02-19 14:00:00\n",
      "Sell BTC at 22343.94 $ the 2023-03-04 04:00:00\n",
      "Buy BTC at 27331.24 $ the 2023-03-18 04:00:00\n"
     ]
    }
   ],
   "source": [
    "usdt = 1000\n",
    "btc = 0\n",
    "lastIndex = df.first_valid_index()\n",
    "\n",
    "for index, row in df.iterrows():\n",
    "  if df['SMA200'][lastIndex] > df['SMA600'][lastIndex] and usdt > 10:\n",
    "    btc = usdt / df['close'][index] \n",
    "    btc = btc - 0.0007 * btc\n",
    "    usdt = 0\n",
    "    print(\"Buy BTC at\",df['close'][index],'$ the', index)\n",
    "\n",
    "  if df['SMA200'][lastIndex] < df['SMA600'][lastIndex] and btc > 0.0001:\n",
    "    usdt = btc * df['close'][index]\n",
    "    usdt = usdt - 0.0007 * usdt\n",
    "    btc = 0\n",
    "    print(\"Sell BTC at\",df['close'][index],'$ the', index)\n",
    "  lastIndex = index"
   ]
  },
  {
   "cell_type": "markdown",
   "metadata": {
    "id": "AiJZXf662rG9"
   },
   "source": [
    "<h1>Print final result and buy and hold result</h1>"
   ]
  },
  {
   "cell_type": "code",
   "execution_count": 9,
   "metadata": {
    "colab": {
     "base_uri": "https://localhost:8080/"
    },
    "id": "ihXSgCneZqFD",
    "outputId": "8d862a24-c468-4e84-8ac9-fff33325fee8"
   },
   "outputs": [
    {
     "name": "stdout",
     "output_type": "stream",
     "text": [
      "Final result 20319.085419580508 USDT\n"
     ]
    }
   ],
   "source": [
    "finalResult = usdt + btc * df['close'].iloc[-1]\n",
    "print(\"Final result\",finalResult,'USDT')"
   ]
  },
  {
   "cell_type": "code",
   "execution_count": 10,
   "metadata": {
    "colab": {
     "base_uri": "https://localhost:8080/"
    },
    "id": "1PeWazqLZ6d5",
    "outputId": "5910204d-293f-4b49-d261-1b6eead2a360"
   },
   "outputs": [
    {
     "name": "stdout",
     "output_type": "stream",
     "text": [
      "Buy and hold result 6532.494900007659 USDT\n"
     ]
    }
   ],
   "source": [
    "print(\"Buy and hold result\", (1000 / df['close'].iloc[0]) * df['close'].iloc[-1],'USDT')"
   ]
  },
  {
   "cell_type": "code",
   "execution_count": null,
   "metadata": {},
   "outputs": [],
   "source": []
  }
 ],
 "metadata": {
  "colab": {
   "authorship_tag": "ABX9TyNYNiMyOi5kNzSVmDFe9Viu",
   "collapsed_sections": [],
   "include_colab_link": true,
   "name": "#1Live.ipynb",
   "provenance": []
  },
  "kernelspec": {
   "display_name": "Python 3",
   "language": "python",
   "name": "python3"
  },
  "language_info": {
   "codemirror_mode": {
    "name": "ipython",
    "version": 3
   },
   "file_extension": ".py",
   "mimetype": "text/x-python",
   "name": "python",
   "nbconvert_exporter": "python",
   "pygments_lexer": "ipython3",
   "version": "3.6.15"
  }
 },
 "nbformat": 4,
 "nbformat_minor": 4
}
