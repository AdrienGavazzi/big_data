{
 "cells": [
  {
   "cell_type": "code",
   "execution_count": 1,
   "id": "c00e286c-b960-408d-9924-40f8372fe42c",
   "metadata": {},
   "outputs": [],
   "source": [
    "import pandas as pd"
   ]
  },
  {
   "cell_type": "code",
   "execution_count": 15,
   "id": "bda9e8b3-9c94-427b-8eeb-dbc1202f1974",
   "metadata": {},
   "outputs": [
    {
     "data": {
      "text/plain": [
       "49.17463215"
      ]
     },
     "execution_count": 15,
     "metadata": {},
     "output_type": "execute_result"
    }
   ],
   "source": [
    "df = pd.read_csv(\"stops.txt\")\n",
    "\n",
    "df[df[\"stop_name\"] == \"Gare de Gaillon-Aubevoye\"].iloc[0][\"stop_lat\"]"
   ]
  },
  {
   "cell_type": "code",
   "execution_count": null,
   "id": "fbd38ed7-884e-40f3-904d-68c88513ace4",
   "metadata": {},
   "outputs": [],
   "source": []
  }
 ],
 "metadata": {
  "kernelspec": {
   "display_name": "Python 3",
   "language": "python",
   "name": "python3"
  },
  "language_info": {
   "codemirror_mode": {
    "name": "ipython",
    "version": 3
   },
   "file_extension": ".py",
   "mimetype": "text/x-python",
   "name": "python",
   "nbconvert_exporter": "python",
   "pygments_lexer": "ipython3",
   "version": "3.6.15"
  }
 },
 "nbformat": 4,
 "nbformat_minor": 5
}
