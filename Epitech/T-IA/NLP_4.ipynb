{
 "cells": [
  {
   "cell_type": "code",
   "execution_count": 80,
   "id": "af306713-e11f-433a-9613-0f3513d6dec8",
   "metadata": {},
   "outputs": [],
   "source": [
    "import string\n",
    "\n",
    "from sklearn.datasets import fetch_20newsgroups\n",
    "from sklearn.feature_extraction.text import CountVectorizer, TfidfVectorizer\n",
    "from sklearn.feature_extraction import _stop_words\n",
    "from nltk.stem import SnowballStemmer\n",
    "from sklearn.model_selection import train_test_split, GridSearchCV\n",
    "from sklearn.naive_bayes import MultinomialNB\n",
    "from sklearn.metrics import accuracy_score\n",
    "from sklearn import feature_extraction, pipeline, linear_model, metrics\n",
    "\n",
    "from sklearn.svm import SVC\n",
    "from sklearn.preprocessing import LabelEncoder\n",
    "from sklearn.ensemble import RandomForestClassifier\n",
    "\n",
    "import pandas as pd\n",
    "import numpy as np\n",
    "\n",
    "from geotext import GeoText"
   ]
  },
  {
   "cell_type": "code",
   "execution_count": 81,
   "id": "82595a83-da5d-4acd-ba7d-8fab8119b83f",
   "metadata": {},
   "outputs": [],
   "source": [
    "def remove_pun(text):\n",
    "    for pun in string.punctuation:\n",
    "        text = text.replace(pun, \"\")\n",
    "    text = text.lower()\n",
    "    return text"
   ]
  },
  {
   "cell_type": "code",
   "execution_count": 143,
   "id": "e60e8307-2307-41ca-9ab1-42d0eff4e363",
   "metadata": {},
   "outputs": [],
   "source": [
    "df = pd.read_csv(\"Sentences.csv\")\n",
    "\n",
    "# df[\"sentence\"] = df[\"sentence\"].apply(remove_pun)"
   ]
  },
  {
   "cell_type": "code",
   "execution_count": 155,
   "id": "6f83cd52-4e06-4d68-9f52-8aacdc491a64",
   "metadata": {},
   "outputs": [],
   "source": [
    "# Define a function to extract cities from a sentence\n",
    "def extract_cities_from_sentence(sentence):\n",
    "    places = GeoText(sentence)\n",
    "    cities = list(places.cities)\n",
    "    if len(cities) >= 2:\n",
    "        return cities[0], cities[1]\n",
    "    elif len(cities) == 1:\n",
    "        return cities[0], None\n",
    "    else:\n",
    "        return None, None\n",
    "\n",
    "# Apply the extract_cities_from_sentence function to each row in the DataFrame\n",
    "df[[\"city_1\", \"city_2\"]] = df[\"sentence\"].apply(lambda x: pd.Series(extract_cities_from_sentence(x)))\n",
    "\n",
    "all_sentences = [f\"{sentence}, {city1}, {city2}\" for sentence, city1, city2 in df[[\"sentence\", \"city_1\", \"city_2\"]].values]\n",
    "input_values = [sentence.lower().replace(r'[^\\w\\s]', '') for sentence in all_sentences]\n",
    "\n",
    "# input_values = df[\"sentence\"]"
   ]
  },
  {
   "cell_type": "code",
   "execution_count": 156,
   "id": "12ba5c69-83b7-450d-b23b-3b74fbe97ccc",
   "metadata": {
    "tags": []
   },
   "outputs": [
    {
     "data": {
      "text/plain": [
       "MultinomialNB()"
      ]
     },
     "execution_count": 156,
     "metadata": {},
     "output_type": "execute_result"
    }
   ],
   "source": [
    "stemmer = SnowballStemmer('french')\n",
    "analyzer = CountVectorizer().build_analyzer()\n",
    "\n",
    "def stemmed_words(doc):\n",
    "    return (stemmer.stem(w) for w in analyzer(doc))\n",
    "\n",
    "vectorizer = CountVectorizer(stop_words='french', analyzer=stemmed_words)\n",
    "X = vectorizer.fit_transform(input_values)\n",
    "y = df.iloc[:, 1] + \" to \" + df.iloc[:, 2]\n",
    "\n",
    "X_train, X_test, y_train, y_test = train_test_split(X, y, test_size=0.2, random_state=42)\n",
    "\n",
    "clf = MultinomialNB()\n",
    "clf.fit(X_train, y_train)"
   ]
  },
  {
   "cell_type": "code",
   "execution_count": 157,
   "id": "1bba7408-3de9-45f6-96d3-73e9c896ad91",
   "metadata": {},
   "outputs": [
    {
     "name": "stdout",
     "output_type": "stream",
     "text": [
      "Accuracy: 7.75%\n"
     ]
    }
   ],
   "source": [
    "y_pred = clf.predict(X_test)\n",
    "accuracy = accuracy_score(y_test, y_pred)\n",
    "print(\"Accuracy: {:.2f}%\".format(accuracy * 100))"
   ]
  },
  {
   "cell_type": "code",
   "execution_count": 158,
   "id": "14979d96-c7b8-44b5-a5c9-8ae9531b5454",
   "metadata": {
    "tags": []
   },
   "outputs": [
    {
     "name": "stderr",
     "output_type": "stream",
     "text": [
      "/usr/local/lib/python3.6/site-packages/pandas/core/indexing.py:1596: SettingWithCopyWarning:\n",
      "\n",
      "\n",
      "A value is trying to be set on a copy of a slice from a DataFrame.\n",
      "Try using .loc[row_indexer,col_indexer] = value instead\n",
      "\n",
      "See the caveats in the documentation: https://pandas.pydata.org/pandas-docs/stable/user_guide/indexing.html#returning-a-view-versus-a-copy\n",
      "\n",
      "/usr/local/lib/python3.6/site-packages/pandas/core/indexing.py:1743: SettingWithCopyWarning:\n",
      "\n",
      "\n",
      "A value is trying to be set on a copy of a slice from a DataFrame.\n",
      "Try using .loc[row_indexer,col_indexer] = value instead\n",
      "\n",
      "See the caveats in the documentation: https://pandas.pydata.org/pandas-docs/stable/user_guide/indexing.html#returning-a-view-versus-a-copy\n",
      "\n"
     ]
    }
   ],
   "source": [
    "df_pred = df[-y_pred.size:]\n",
    "df_pred.loc[df_pred.index, \"prediction\"] = y_pred"
   ]
  },
  {
   "cell_type": "code",
   "execution_count": 115,
   "id": "3d25c4e6-f961-4284-9d2e-8797fa0fbcae",
   "metadata": {
    "collapsed": true,
    "jupyter": {
     "outputs_hidden": true
    },
    "tags": []
   },
   "outputs": [
    {
     "name": "stderr",
     "output_type": "stream",
     "text": [
      "/usr/local/lib/python3.6/site-packages/ipykernel_launcher.py:5: SettingWithCopyWarning:\n",
      "\n",
      "\n",
      "A value is trying to be set on a copy of a slice from a DataFrame.\n",
      "Try using .loc[row_indexer,col_indexer] = value instead\n",
      "\n",
      "See the caveats in the documentation: https://pandas.pydata.org/pandas-docs/stable/user_guide/indexing.html#returning-a-view-versus-a-copy\n",
      "\n"
     ]
    }
   ],
   "source": [
    "def check_cities_in_sentence(row):\n",
    "    return row['prediction'].split(\" to \")[0] in row['sentence'] and row['prediction'].split(\" to \")[0] in row['sentence']\n",
    "\n",
    "# Apply the function to create a new column 'city_match' that stores the boolean result\n",
    "df_pred['city_match'] = df_pred.apply(check_cities_in_sentence, axis=1)\n",
    "\n",
    "# Now, filter the rows where 'city_match' is True\n",
    "filtered_df = df_pred[df_pred['city_match']]\n",
    "\n",
    "# Drop the 'city_match' column if you don't need it\n",
    "filtered_df = filtered_df.drop(columns=['city_match'])"
   ]
  },
  {
   "cell_type": "code",
   "execution_count": 118,
   "id": "2e599992-3815-4441-9394-5d65482bc151",
   "metadata": {},
   "outputs": [
    {
     "data": {
      "text/html": [
       "<div>\n",
       "<style scoped>\n",
       "    .dataframe tbody tr th:only-of-type {\n",
       "        vertical-align: middle;\n",
       "    }\n",
       "\n",
       "    .dataframe tbody tr th {\n",
       "        vertical-align: top;\n",
       "    }\n",
       "\n",
       "    .dataframe thead th {\n",
       "        text-align: right;\n",
       "    }\n",
       "</style>\n",
       "<table border=\"1\" class=\"dataframe\">\n",
       "  <thead>\n",
       "    <tr style=\"text-align: right;\">\n",
       "      <th></th>\n",
       "      <th>sentence</th>\n",
       "      <th>departure</th>\n",
       "      <th>arrival</th>\n",
       "      <th>city_1</th>\n",
       "      <th>city_2</th>\n",
       "      <th>prediction</th>\n",
       "      <th>city_match</th>\n",
       "    </tr>\n",
       "  </thead>\n",
       "  <tbody>\n",
       "    <tr>\n",
       "      <th>1600</th>\n",
       "      <td>Je veux prendre le train de Clermont-Ferrand à...</td>\n",
       "      <td>Clermont-Ferrand</td>\n",
       "      <td>Saint-Denis</td>\n",
       "      <td>Clermont-Ferrand</td>\n",
       "      <td>Saint-Denis</td>\n",
       "      <td>Nantes to Saint-Denis</td>\n",
       "      <td>False</td>\n",
       "    </tr>\n",
       "    <tr>\n",
       "      <th>1601</th>\n",
       "      <td>Le train de Paris à Rouen offre une vue magnif...</td>\n",
       "      <td>Paris</td>\n",
       "      <td>Rouen</td>\n",
       "      <td>Paris</td>\n",
       "      <td>Rouen</td>\n",
       "      <td>Nice to Le Mans</td>\n",
       "      <td>False</td>\n",
       "    </tr>\n",
       "    <tr>\n",
       "      <th>1602</th>\n",
       "      <td>Je prévois de voyager de Rouen à Marseille en ...</td>\n",
       "      <td>Rouen</td>\n",
       "      <td>Marseille</td>\n",
       "      <td>Rouen</td>\n",
       "      <td>Marseille</td>\n",
       "      <td>Marseille to Saint-Étienne</td>\n",
       "      <td>True</td>\n",
       "    </tr>\n",
       "    <tr>\n",
       "      <th>1603</th>\n",
       "      <td>Pour mes prochaines vacances, je vais de Bézie...</td>\n",
       "      <td>Béziers</td>\n",
       "      <td>Tourcoing</td>\n",
       "      <td>Béziers</td>\n",
       "      <td>Tourcoing</td>\n",
       "      <td>Le Mans to Rouen</td>\n",
       "      <td>False</td>\n",
       "    </tr>\n",
       "    <tr>\n",
       "      <th>1604</th>\n",
       "      <td>Je souhaite découvrir Calais en prenant le tra...</td>\n",
       "      <td>Nîmes</td>\n",
       "      <td>Calais</td>\n",
       "      <td>Calais</td>\n",
       "      <td>Nîmes</td>\n",
       "      <td>Tourcoing to Nîmes</td>\n",
       "      <td>False</td>\n",
       "    </tr>\n",
       "    <tr>\n",
       "      <th>...</th>\n",
       "      <td>...</td>\n",
       "      <td>...</td>\n",
       "      <td>...</td>\n",
       "      <td>...</td>\n",
       "      <td>...</td>\n",
       "      <td>...</td>\n",
       "      <td>...</td>\n",
       "    </tr>\n",
       "    <tr>\n",
       "      <th>1995</th>\n",
       "      <td>Je veux prendre le train de Bordeaux à La Roch...</td>\n",
       "      <td>Bordeaux</td>\n",
       "      <td>La Rochelle</td>\n",
       "      <td>Bordeaux</td>\n",
       "      <td>La Rochelle</td>\n",
       "      <td>Bordeaux to Limoges</td>\n",
       "      <td>True</td>\n",
       "    </tr>\n",
       "    <tr>\n",
       "      <th>1996</th>\n",
       "      <td>Le train est le meilleur moyen de se rendre de...</td>\n",
       "      <td>Nice</td>\n",
       "      <td>Lille</td>\n",
       "      <td>Nice</td>\n",
       "      <td>Lille</td>\n",
       "      <td>Tourcoing to Nîmes</td>\n",
       "      <td>False</td>\n",
       "    </tr>\n",
       "    <tr>\n",
       "      <th>1997</th>\n",
       "      <td>Allons de Pau à Toulon en train, qu'en penses-...</td>\n",
       "      <td>Pau</td>\n",
       "      <td>Toulon</td>\n",
       "      <td>Toulon</td>\n",
       "      <td>None</td>\n",
       "      <td>Amiens to Toulon</td>\n",
       "      <td>False</td>\n",
       "    </tr>\n",
       "    <tr>\n",
       "      <th>1998</th>\n",
       "      <td>Je souhaite découvrir Marseille en prenant le ...</td>\n",
       "      <td>Orléans</td>\n",
       "      <td>Marseille</td>\n",
       "      <td>Marseille</td>\n",
       "      <td>Orléans</td>\n",
       "      <td>Toulon to Lille</td>\n",
       "      <td>False</td>\n",
       "    </tr>\n",
       "    <tr>\n",
       "      <th>1999</th>\n",
       "      <td>Le train de Paris à Rennes est-il disponible d...</td>\n",
       "      <td>Paris</td>\n",
       "      <td>Rennes</td>\n",
       "      <td>Paris</td>\n",
       "      <td>Rennes</td>\n",
       "      <td>Nice to Le Havre</td>\n",
       "      <td>False</td>\n",
       "    </tr>\n",
       "  </tbody>\n",
       "</table>\n",
       "<p>400 rows × 7 columns</p>\n",
       "</div>"
      ],
      "text/plain": [
       "                                               sentence         departure  \\\n",
       "1600  Je veux prendre le train de Clermont-Ferrand à...  Clermont-Ferrand   \n",
       "1601  Le train de Paris à Rouen offre une vue magnif...             Paris   \n",
       "1602  Je prévois de voyager de Rouen à Marseille en ...             Rouen   \n",
       "1603  Pour mes prochaines vacances, je vais de Bézie...           Béziers   \n",
       "1604  Je souhaite découvrir Calais en prenant le tra...             Nîmes   \n",
       "...                                                 ...               ...   \n",
       "1995  Je veux prendre le train de Bordeaux à La Roch...          Bordeaux   \n",
       "1996  Le train est le meilleur moyen de se rendre de...              Nice   \n",
       "1997  Allons de Pau à Toulon en train, qu'en penses-...               Pau   \n",
       "1998  Je souhaite découvrir Marseille en prenant le ...           Orléans   \n",
       "1999  Le train de Paris à Rennes est-il disponible d...             Paris   \n",
       "\n",
       "          arrival            city_1       city_2                  prediction  \\\n",
       "1600  Saint-Denis  Clermont-Ferrand  Saint-Denis       Nantes to Saint-Denis   \n",
       "1601        Rouen             Paris        Rouen             Nice to Le Mans   \n",
       "1602    Marseille             Rouen    Marseille  Marseille to Saint-Étienne   \n",
       "1603    Tourcoing           Béziers    Tourcoing            Le Mans to Rouen   \n",
       "1604       Calais            Calais        Nîmes          Tourcoing to Nîmes   \n",
       "...           ...               ...          ...                         ...   \n",
       "1995  La Rochelle          Bordeaux  La Rochelle         Bordeaux to Limoges   \n",
       "1996        Lille              Nice        Lille          Tourcoing to Nîmes   \n",
       "1997       Toulon            Toulon         None            Amiens to Toulon   \n",
       "1998    Marseille         Marseille      Orléans             Toulon to Lille   \n",
       "1999       Rennes             Paris       Rennes            Nice to Le Havre   \n",
       "\n",
       "      city_match  \n",
       "1600       False  \n",
       "1601       False  \n",
       "1602        True  \n",
       "1603       False  \n",
       "1604       False  \n",
       "...          ...  \n",
       "1995        True  \n",
       "1996       False  \n",
       "1997       False  \n",
       "1998       False  \n",
       "1999       False  \n",
       "\n",
       "[400 rows x 7 columns]"
      ]
     },
     "execution_count": 118,
     "metadata": {},
     "output_type": "execute_result"
    }
   ],
   "source": [
    "df_pred"
   ]
  },
  {
   "cell_type": "code",
   "execution_count": 138,
   "id": "a8924ffe-afd6-43d7-a69e-7d6e70df68d0",
   "metadata": {
    "tags": []
   },
   "outputs": [
    {
     "name": "stdout",
     "output_type": "stream",
     "text": [
      "Il est temps de visiter Rouen. Je vais prendre le train depuis Nîmes.\n",
      "La gare de Rouen à Béziers est-elle bien desservie ?\n",
      "Allons de Aix-en-Provence à Lille en train, qu'en penses-tu ?\n",
      "Nantes est une belle ville. Je veux y aller en train depuis Clermont-Ferrand.\n",
      "J'ai prévu de partir en train de Nantes à Aix-en-Provence.\n"
     ]
    }
   ],
   "source": [
    "for index, row in df.head().iterrows():\n",
    "    print(row[\"sentence\"])\n",
    "    \n",
    "#     X = vectorizer.fit_transform([row[\"sentence\"]])\n",
    "    \n",
    "#     prediction = clf.predict(X)\n",
    "    \n",
    "#     print(prediction)"
   ]
  },
  {
   "cell_type": "code",
   "execution_count": null,
   "id": "dfef553a-19ed-4396-8344-77ac6ef0fa85",
   "metadata": {},
   "outputs": [],
   "source": []
  }
 ],
 "metadata": {
  "kernelspec": {
   "display_name": "Python 3",
   "language": "python",
   "name": "python3"
  },
  "language_info": {
   "codemirror_mode": {
    "name": "ipython",
    "version": 3
   },
   "file_extension": ".py",
   "mimetype": "text/x-python",
   "name": "python",
   "nbconvert_exporter": "python",
   "pygments_lexer": "ipython3",
   "version": "3.6.15"
  }
 },
 "nbformat": 4,
 "nbformat_minor": 5
}
