{
 "cells": [
  {
   "cell_type": "code",
   "execution_count": 6,
   "id": "1657cd16-93a3-49df-9305-c1da7ee911b4",
   "metadata": {},
   "outputs": [],
   "source": [
    "import random\n",
    "import pandas as pd"
   ]
  },
  {
   "cell_type": "code",
   "execution_count": 12,
   "id": "715ee508-5159-4226-86fe-48376c4641b8",
   "metadata": {},
   "outputs": [],
   "source": [
    "# List of cities for departure and arrival\n",
    "cities = [\"Paris\", \"Marseille\", \"Lyon\", \"Bordeaux\", \"Toulouse\", \"Nice\", \"Lille\", \"Strasbourg\", \"Nantes\", \"Montpellier\", \"Rennes\", \"Rouen\", \"Nîmes\", \"Toulon\", \"Amiens\", \"Besançon\", \"Limoges\", \"Le Havre\", \"Clermont-Ferrand\", \"Tourcoing\", \"Perpignan\", \"Orléans\", \"Saint-Denis\", \"La Rochelle\", \"Le Mans\", \"Aix-en-Provence\", \"Béziers\", \"Pau\", \"Calais\", \"Saint-Étienne\"]\n",
    "\n",
    "# You can add more cities to the list as needed to increase the variety of your training data.\n",
    "\n",
    "\n",
    "sentences = []\n",
    "\n",
    "# Generate 300 unique sentences\n",
    "while len(sentences) < 2000:\n",
    "    departure = random.choice(cities)\n",
    "    arrival = random.choice(cities)\n",
    "    \n",
    "    # Make sure departure and arrival cities are different\n",
    "    if departure != arrival:\n",
    "        sentence = random.choice([\n",
    "            [f\"Je veux prendre le train de {departure} à {arrival}.\", [\"O\", \"O\", \"O\", \"B-START_CITY\", \"O\", \"B-DEST_CITY\", \"I-DEST_CITY\", \"O\"]],\n",
    "            [f\"Partir de {departure} pour {arrival} en train serait génial.\", [\"O\", \"B-START_CITY\", \"O\", \"B-DEST_CITY\", \"I-DEST_CITY\", \"O\", \"O\"]],\n",
    "            [f\"Le train de {departure} à {arrival} est-il disponible demain ?\", [\"O\", \"B-START_CITY\", \"O\", \"B-DEST_CITY\", \"I-DEST_CITY\", \"O\", \"O\"]],\n",
    "            [f\"Je prévois de voyager de {departure} à {arrival} en train.\", [\"O\", \"B-START_CITY\", \"O\", \"B-DEST_CITY\", \"I-DEST_CITY\", \"O\", \"O\"]],\n",
    "            f\"Allons de {departure} à {arrival} en train, qu'en penses-tu ?\",\n",
    "            f\"Pourquoi ne pas partir de {departure} à {arrival} en train ce week-end ?\",\n",
    "            f\"Je rêve de visiter {arrival} en prenant le train depuis {departure}.\",\n",
    "            f\"Le trajet en train de {departure} à {arrival} est long mais pittoresque.\",\n",
    "            f\"De {departure} à {arrival}, le train est mon choix préféré.\",\n",
    "            f\"{arrival} est une belle ville. Je veux y aller en train depuis {departure}.\",\n",
    "            f\"J'ai prévu de partir en train de {departure} à {arrival}.\",\n",
    "            f\"Le voyage de {departure} à {arrival} en train est une excellente idée.\",\n",
    "            f\"Je songe à voyager en train de {departure} vers {arrival}.\",\n",
    "            f\"Voyager de {departure} à {arrival} en train, est-ce une option possible ?\",\n",
    "            f\"Je vais explorer {arrival} en train en partant de {departure}.\",\n",
    "            f\"Mon prochain voyage sera de {departure} à {arrival} en train.\",\n",
    "            f\"Le train de {departure} à {arrival} offre une vue magnifique.\",\n",
    "            f\"Je souhaite découvrir {arrival} en prenant le train depuis {departure}.\",\n",
    "            f\"De {departure} à {arrival}, le train est le choix le plus pratique.\",\n",
    "            f\"Je m'apprête à réserver un billet de train pour {arrival} depuis {departure}.\",\n",
    "            f\"C'est le moment idéal pour un voyage de {departure} à {arrival} en train.\",\n",
    "            f\"Je rêve de faire un voyage en train de {departure} à {arrival}.\",\n",
    "            f\"Le train est le meilleur moyen de se rendre de {departure} à {arrival}.\",\n",
    "            f\"Pour mes prochaines vacances, je vais de {departure} à {arrival} en train.\",\n",
    "        ])\n",
    "        if sentence not in [s['sentence'] for s in sentences]:\n",
    "            sentences.append({\"sentence\": sentence, \"departure\": departure, \"arrival\": arrival})\n"
   ]
  },
  {
   "cell_type": "code",
   "execution_count": 13,
   "id": "b0450480-c08f-49f3-a3bf-eff24ca11b42",
   "metadata": {},
   "outputs": [],
   "source": [
    "df = pd.DataFrame(sentences, columns=['sentence','departure','arrival'])"
   ]
  },
  {
   "cell_type": "code",
   "execution_count": 14,
   "id": "6f99b5d8-cbf7-4f2c-9376-e0806af9341e",
   "metadata": {},
   "outputs": [],
   "source": [
    "df.to_csv(\"Sentences.csv\", index=False)"
   ]
  },
  {
   "cell_type": "code",
   "execution_count": null,
   "id": "c473cb02-36d0-49de-b874-57f47ad8eb5c",
   "metadata": {},
   "outputs": [],
   "source": []
  }
 ],
 "metadata": {
  "kernelspec": {
   "display_name": "Python 3",
   "language": "python",
   "name": "python3"
  },
  "language_info": {
   "codemirror_mode": {
    "name": "ipython",
    "version": 3
   },
   "file_extension": ".py",
   "mimetype": "text/x-python",
   "name": "python",
   "nbconvert_exporter": "python",
   "pygments_lexer": "ipython3",
   "version": "3.6.15"
  }
 },
 "nbformat": 4,
 "nbformat_minor": 5
}
