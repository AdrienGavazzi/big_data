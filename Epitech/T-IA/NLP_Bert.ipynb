{
 "cells": [
  {
   "cell_type": "markdown",
   "id": "f33af576-5a20-480f-a2f9-ebb6fc65deb2",
   "metadata": {},
   "source": [
    "# NLP Bert Model"
   ]
  },
  {
   "cell_type": "markdown",
   "id": "bd4cbb58-29fe-4314-bf7a-881b56660bba",
   "metadata": {
    "tags": []
   },
   "source": [
    "## Links:\n",
    "- Bert Models: https://huggingface.co/ml6team/bert-base-uncased-city-country-ner\n",
    "- Tuto site: https://www.projectpro.io/article/bert-nlp-model-explained/558"
   ]
  },
  {
   "cell_type": "code",
   "execution_count": 7,
   "id": "7d3ddd52-6725-47e1-8a24-e63a989067f7",
   "metadata": {},
   "outputs": [],
   "source": [
    "import torch\n",
    "from transformers import BertForTokenClassification, BertTokenizer\n",
    "from transformers import pipeline"
   ]
  },
  {
   "cell_type": "code",
   "execution_count": null,
   "id": "b3068931-ba0d-492d-b822-c40443c48ab0",
   "metadata": {},
   "outputs": [],
   "source": [
    "# Charger un modèle pré-entraîné BERT pour la classification de tokens (NER)\n",
    "model_name = \"ml6team/bert-base-uncased-city-country-ner\" # dbmdz/bert-large-cased-finetuned-conll03-english\n",
    "model = BertForTokenClassification.from_pretrained(model_name)\n",
    "tokenizer = BertTokenizer.from_pretrained(model_name)\n",
    "\n",
    "# Définir les étiquettes pour les villes de départ et d'arrivée\n",
    "labels = [\"O\", \"B-START_CITY\", \"I-START_CITY\", \"B-DEST_CITY\", \"I-DEST_CITY\"]\n",
    "\n",
    "# Préparer les exemples d'entraînement (phrases annotées)\n",
    "training_data = [\n",
    "    (\"Je veux prendre le train de Toulouse à Paris.\", [\"O\", \"O\", \"O\", \"B-START_CITY\", \"O\", \"B-DEST_CITY\", \"I-DEST_CITY\", \"O\"]),\n",
    "    # Ajoutez d'autres exemples ici\n",
    "]\n",
    "\n",
    "# Convertir les exemples en entrées du modèle\n",
    "encoded_training_data = []\n",
    "for text, labels in training_data:\n",
    "    tokens = tokenizer(text, return_offsets_mapping=True)\n",
    "    input_ids = tokens[\"input_ids\"]\n",
    "    attention_mask = tokens[\"attention_mask\"]\n",
    "    encoded_labels = [labels.index(label) for label in labels]\n",
    "    encoded_training_data.append((input_ids, attention_mask, encoded_labels))\n",
    "\n",
    "# Entraîner le modèle\n",
    "train_dataset = torch.utils.data.TensorDataset(*[torch.tensor(t) for t in zip(*encoded_training_data)])\n",
    "\n",
    "# Configurer l'entraînement\n",
    "training_args = TrainingArguments(\n",
    "    output_dir=\"./ner-model\",\n",
    "    num_train_epochs=3,\n",
    "    per_device_train_batch_size=32,\n",
    "    evaluation_strategy=\"steps\",\n",
    "    save_steps=500,\n",
    "    eval_steps=500,\n",
    ")\n",
    "\n",
    "# Créer un DataCollator pour les données d'entraînement\n",
    "data_collator = DataCollatorForTokenClassification(tokenizer)\n",
    "\n",
    "trainer = Trainer(\n",
    "    model=model,\n",
    "    args=training_args,\n",
    "    data_collator=data_collator,\n",
    "    train_dataset=train_dataset,\n",
    ")\n",
    "\n",
    "# Lancer l'entraînement\n",
    "trainer.train()\n",
    "\n",
    "# Enregistrer le modèle entraîné\n",
    "trainer.save_model(\"./ner-model\")\n"
   ]
  }
 ],
 "metadata": {
  "kernelspec": {
   "display_name": "Python 3",
   "language": "python",
   "name": "python3"
  },
  "language_info": {
   "codemirror_mode": {
    "name": "ipython",
    "version": 3
   },
   "file_extension": ".py",
   "mimetype": "text/x-python",
   "name": "python",
   "nbconvert_exporter": "python",
   "pygments_lexer": "ipython3",
   "version": "3.6.15"
  }
 },
 "nbformat": 4,
 "nbformat_minor": 5
}
