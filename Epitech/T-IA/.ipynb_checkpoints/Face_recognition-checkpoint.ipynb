{
 "cells": [
  {
   "cell_type": "code",
   "execution_count": 38,
   "id": "dba72f60-9cec-4976-bd71-ce68dc8fe6e6",
   "metadata": {},
   "outputs": [],
   "source": [
    "import cv2"
   ]
  },
  {
   "cell_type": "code",
   "execution_count": 46,
   "id": "c3ff5022-3f12-4cad-a2db-7acc68977544",
   "metadata": {},
   "outputs": [],
   "source": [
    "face_cascade = cv2.CascadeClassifier('face_detector.xml')"
   ]
  },
  {
   "cell_type": "code",
   "execution_count": 55,
   "id": "c50377bd-849f-4a44-9687-fecf00c88aee",
   "metadata": {},
   "outputs": [],
   "source": [
    "path = 'images/IMG_7868.JPG'\n",
    "img = cv2.imread(path)\n",
    "\n",
    "faces = face_cascade.detectMultiScale(img, 1.1, 4)"
   ]
  },
  {
   "cell_type": "code",
   "execution_count": 64,
   "id": "cbe3df4c-90a4-41b7-b651-3735c5e947c6",
   "metadata": {},
   "outputs": [
    {
     "name": "stdout",
     "output_type": "stream",
     "text": [
      "Successfully saved\n"
     ]
    }
   ],
   "source": [
    "for (x, y, w, h) in faces: \n",
    "    cv2.rectangle(img, (x, y), (x+w, y+h), (255, 0, 0), 2)\n",
    "cv2.imwrite(f\"{path.split('/')[-1]}_faces-detected.{path.split('/')[-1].split('.')[1]}\", img) \n",
    "print('Successfully saved')"
   ]
  },
  {
   "cell_type": "code",
   "execution_count": 66,
   "id": "738fada0-d009-43b0-8fdf-4d151d2707ed",
   "metadata": {},
   "outputs": [
    {
     "name": "stdout",
     "output_type": "stream",
     "text": [
      "Enregistrement réussi\n"
     ]
    }
   ],
   "source": [
    "# Itérer à travers les visages détectés et les enregistrer en tant qu'images individuelles\n",
    "for i, (x, y, w, h) in enumerate(faces):\n",
    "    # Extraire le visage de l'image avec une boîte englobante plus large\n",
    "    margin = 60  # Ajustez cette marge pour obtenir une boîte plus large\n",
    "    x -= margin\n",
    "    y -= margin\n",
    "    w += 2 * margin\n",
    "    h += 2 * margin\n",
    "    \n",
    "    # Assurez-vous que les coordonnées ne sont pas négatives\n",
    "    x = max(x, 0)\n",
    "    y = max(y, 0)\n",
    "    \n",
    "    # Extraire le visage\n",
    "    detected_face = img[y:y + h, x:x + w]\n",
    "\n",
    "    # Enregistrer le visage détecté en tant qu'image séparée\n",
    "    face_filename = f\"{path.split('/')[-1]}_face_{i}.jpg\"\n",
    "    cv2.imwrite(face_filename, detected_face)\n",
    "\n",
    "    # Dessiner un rectangle autour du visage détecté dans l'image d'origine\n",
    "    cv2.rectangle(img, (x, y), (x + w, y + h), (255, 0, 0), 2)\n",
    "\n",
    "# Enregistrer l'image modifiée avec les rectangles autour des visages\n",
    "output_path = f\"{path.split('/')[-1]}_faces-detected.{path.split('/')[-1].split('.')[1]}\"\n",
    "cv2.imwrite(output_path, img)\n",
    "\n",
    "print('Enregistrement réussi')"
   ]
  },
  {
   "cell_type": "code",
   "execution_count": null,
   "id": "5079323d-a730-46d1-b22a-29b5e59330e9",
   "metadata": {},
   "outputs": [],
   "source": []
  }
 ],
 "metadata": {
  "kernelspec": {
   "display_name": "Python 3",
   "language": "python",
   "name": "python3"
  },
  "language_info": {
   "codemirror_mode": {
    "name": "ipython",
    "version": 3
   },
   "file_extension": ".py",
   "mimetype": "text/x-python",
   "name": "python",
   "nbconvert_exporter": "python",
   "pygments_lexer": "ipython3",
   "version": "3.6.15"
  }
 },
 "nbformat": 4,
 "nbformat_minor": 5
}
