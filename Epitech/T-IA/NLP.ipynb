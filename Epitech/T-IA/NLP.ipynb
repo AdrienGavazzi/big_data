{
 "cells": [
  {
   "cell_type": "code",
   "execution_count": 23,
   "id": "229f393c-0f21-4994-958e-52228e1b0a6e",
   "metadata": {},
   "outputs": [],
   "source": [
    "import string\n",
    "import re\n",
    "import numpy as np\n",
    "import pandas as pd\n",
    "import matplotlib.pyplot as plt\n",
    "import seaborn as sns"
   ]
  },
  {
   "cell_type": "code",
   "execution_count": 72,
   "id": "4021a289-961d-4949-860e-3f96f134c674",
   "metadata": {},
   "outputs": [],
   "source": [
    "from sklearn.model_selection import train_test_split\n",
    "from sklearn import feature_extraction, pipeline, linear_model, metrics"
   ]
  },
  {
   "cell_type": "code",
   "execution_count": 81,
   "id": "f85d3ddf-e0ef-4420-b290-eb6c2476812e",
   "metadata": {},
   "outputs": [],
   "source": [
    "def remove_pun(text):\n",
    "    for pun in string.punctuation:\n",
    "        text = text.replace(pun, \"\")\n",
    "    text = text.lower()\n",
    "    return text"
   ]
  },
  {
   "cell_type": "code",
   "execution_count": 106,
   "id": "03276198-5d3e-4222-bbfa-ec26ac406bb8",
   "metadata": {},
   "outputs": [],
   "source": [
    "# df = pd.DataFrame(additional_training_data_2 + additional_training_data, columns=['sentence','departure','arrival'])\n",
    "df = pd.read_csv(\"Sentences.csv\")\n",
    "\n",
    "df[\"sentence\"] = df[\"sentence\"].apply(remove_pun)"
   ]
  },
  {
   "cell_type": "code",
   "execution_count": 103,
   "id": "546f53a5-a0f1-4c37-ace1-acf61e4f3050",
   "metadata": {},
   "outputs": [],
   "source": [
    "X = df.iloc[:, 0]\n",
    "# Y = df.iloc[:, 1:3]\n",
    "Y = df.iloc[:, 1] + \" to \" + df.iloc[:, 2]\n",
    "\n",
    "x_train, x_test, y_train, y_test = train_test_split(X, Y, test_size=.2)"
   ]
  },
  {
   "cell_type": "code",
   "execution_count": 97,
   "id": "117ece34-33aa-4b51-8c1e-ca4381b21b45",
   "metadata": {},
   "outputs": [],
   "source": [
    "vec = feature_extraction.text.TfidfVectorizer(ngram_range=(1,2), analyzer='char')\n",
    "\n",
    "model_pipeline = pipeline.Pipeline([(\"vec\", vec), (\"clf\", linear_model.LogisticRegression())])\n",
    "\n",
    "model_pipeline.fit(x_train, y_train)"
   ]
  },
  {
   "cell_type": "code",
   "execution_count": 100,
   "id": "1b240d7b-7cab-4c45-8920-922be7465b2b",
   "metadata": {},
   "outputs": [],
   "source": [
    "predict_val = model_pipeline.predict(x_test)"
   ]
  },
  {
   "cell_type": "code",
   "execution_count": 101,
   "id": "b4574fc4-6dfa-49ba-a037-c384a73cefb3",
   "metadata": {},
   "outputs": [
    {
     "data": {
      "text/plain": [
       "17.72151898734177"
      ]
     },
     "execution_count": 101,
     "metadata": {},
     "output_type": "execute_result"
    }
   ],
   "source": [
    "metrics.accuracy_score(y_test, predict_val)*100"
   ]
  },
  {
   "cell_type": "code",
   "execution_count": 102,
   "id": "1837dee4-81a9-4fc9-afff-03d0369f5007",
   "metadata": {},
   "outputs": [
    {
     "data": {
      "text/plain": [
       "array([[1, 0, 0, ..., 0, 0, 0],\n",
       "       [0, 0, 0, ..., 0, 0, 0],\n",
       "       [0, 0, 2, ..., 0, 0, 0],\n",
       "       ...,\n",
       "       [0, 0, 0, ..., 0, 0, 0],\n",
       "       [0, 0, 0, ..., 0, 0, 0],\n",
       "       [0, 0, 0, ..., 0, 0, 0]])"
      ]
     },
     "execution_count": 102,
     "metadata": {},
     "output_type": "execute_result"
    }
   ],
   "source": [
    "metrics.confusion_matrix(y_test, predict_val)"
   ]
  },
  {
   "cell_type": "code",
   "execution_count": null,
   "id": "8306999c-b198-4781-944d-387489708a72",
   "metadata": {},
   "outputs": [],
   "source": []
  }
 ],
 "metadata": {
  "kernelspec": {
   "display_name": "Python 3",
   "language": "python",
   "name": "python3"
  },
  "language_info": {
   "codemirror_mode": {
    "name": "ipython",
    "version": 3
   },
   "file_extension": ".py",
   "mimetype": "text/x-python",
   "name": "python",
   "nbconvert_exporter": "python",
   "pygments_lexer": "ipython3",
   "version": "3.6.15"
  }
 },
 "nbformat": 4,
 "nbformat_minor": 5
}
