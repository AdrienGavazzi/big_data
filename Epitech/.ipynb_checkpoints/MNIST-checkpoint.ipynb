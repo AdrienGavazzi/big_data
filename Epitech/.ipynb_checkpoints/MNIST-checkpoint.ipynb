{
 "cells": [
  {
   "cell_type": "markdown",
   "id": "8402e9af-a6ad-4f9a-b76b-4e6a400d950f",
   "metadata": {},
   "source": [
    "## Class MNIST"
   ]
  },
  {
   "cell_type": "code",
   "execution_count": 2,
   "id": "9ece3247-18db-4319-aa63-5620f0378758",
   "metadata": {},
   "outputs": [],
   "source": [
    "class MNIST:\n",
    "    \n",
    "    def __init__(self):\n",
    "        self.train_X = None\n",
    "        self.train_y = None\n",
    "        self.test_X = None\n",
    "        self.test_y = None\n",
    "   \n",
    "    def load(self):\n",
    "        print('Loading dataset...')\n",
    "        (train_X, train_y), (test_X, test_y) = mnist.load_data()\n",
    "        \n",
    "    def console():\n",
    "        print('X_train: ' + str(train_X.shape))\n",
    "        print('Y_train: ' + str(train_y.shape))\n",
    "        print('X_test:  '  + str(test_X.shape))\n",
    "        print('Y_test:  '  + str(test_y.shape))\n",
    "    \n",
    "    def plot():\n",
    "        print(\"Plot 9 first element\")\n",
    "        for i in range(9):  \n",
    "            # pyplot.subplot(330 + 1 + i)\n",
    "            pyplot.imshow(train_X[i], cmap=pyplot.get_cmap('gray'))\n",
    "            pyplot.show()"
   ]
  },
  {
   "cell_type": "code",
   "execution_count": null,
   "id": "7c7c3213-098e-4ebd-bb36-d1410e2c4a6d",
   "metadata": {},
   "outputs": [],
   "source": []
  }
 ],
 "metadata": {
  "kernelspec": {
   "display_name": "Python 3",
   "language": "python",
   "name": "python3"
  },
  "language_info": {
   "codemirror_mode": {
    "name": "ipython",
    "version": 3
   },
   "file_extension": ".py",
   "mimetype": "text/x-python",
   "name": "python",
   "nbconvert_exporter": "python",
   "pygments_lexer": "ipython3",
   "version": "3.6.15"
  }
 },
 "nbformat": 4,
 "nbformat_minor": 5
}
