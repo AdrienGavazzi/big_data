{
 "cells": [
  {
   "cell_type": "markdown",
   "metadata": {},
   "source": [
    "# Zoidberg 2.0\n"
   ]
  },
  {
   "cell_type": "code",
   "execution_count": 1,
   "metadata": {},
   "outputs": [],
   "source": [
    "# Importation des bibliothèques nécessaires\n",
    "import tensorflow as tf\n",
    "from keras.preprocessing.image import ImageDataGenerator \n",
    "from keras.models import Sequential \n",
    "from keras.layers import Conv2D, MaxPooling2D, Flatten, Dense, Dropout"
   ]
  },
  {
   "cell_type": "code",
   "execution_count": 2,
   "metadata": {},
   "outputs": [],
   "source": [
    "path = \"./Data/\""
   ]
  },
  {
   "cell_type": "code",
   "execution_count": 3,
   "metadata": {},
   "outputs": [],
   "source": [
    "# Création des générateurs de données pour les ensembles d'entraînement, de validation et de test\n",
    "train_datagen = ImageDataGenerator(rescale=1./255, shear_range=0.2, zoom_range=0.2, horizontal_flip=True)\n",
    "val_datagen = ImageDataGenerator(rescale=1./255)\n",
    "test_datagen = ImageDataGenerator(rescale=1./255)"
   ]
  },
  {
   "cell_type": "code",
   "execution_count": 5,
   "metadata": {},
   "outputs": [
    {
     "name": "stdout",
     "output_type": "stream",
     "text": [
      "Found 10433 images belonging to 3 classes.\n",
      "Found 33 images belonging to 3 classes.\n",
      "Found 1250 images belonging to 3 classes.\n"
     ]
    }
   ],
   "source": [
    "train_generator = train_datagen.flow_from_directory(path + 'chest_Xray/train',target_size=(180, 180),batch_size=32,class_mode='binary')\n",
    "validation_generator = val_datagen.flow_from_directory(path + 'chest_Xray/val',target_size=(180, 180),batch_size=32,class_mode='binary')\n",
    "test_generator = test_datagen.flow_from_directory(path + 'chest_Xray/test',target_size=(180, 180),batch_size=32,class_mode='binary')"
   ]
  },
  {
   "cell_type": "code",
   "execution_count": 6,
   "metadata": {},
   "outputs": [],
   "source": [
    "# Construction du modèle CNN\n",
    "model = Sequential()\n",
    "\n",
    "model.add(Conv2D(32, (3, 3), activation='relu', input_shape=(180, 180, 3)))\n",
    "model.add(MaxPooling2D((2, 2)))\n",
    "model.add(Dropout(0.25))\n",
    "\n",
    "model.add(Conv2D(64, (3, 3), activation='relu'))\n",
    "model.add(MaxPooling2D((2, 2)))\n",
    "model.add(Dropout(0.25))\n",
    "\n",
    "model.add(Conv2D(128, (3, 3), activation='relu'))\n",
    "model.add(MaxPooling2D((2, 2)))\n",
    "model.add(Dropout(0.25))\n",
    "\n",
    "model.add(Flatten())\n",
    "\n",
    "model.add(Dense(512, activation='relu'))\n",
    "model.add(Dropout(0.5))\n",
    "model.add(Dense(1, activation='sigmoid'))"
   ]
  },
  {
   "cell_type": "code",
   "execution_count": 7,
   "metadata": {},
   "outputs": [
    {
     "name": "stdout",
     "output_type": "stream",
     "text": [
      "Epoch 1/20\n",
      "327/327 [==============================] - 397s 1s/step - loss: 0.5026 - accuracy: 0.1319 - val_loss: 0.5484 - val_accuracy: 0.2727\n",
      "Epoch 2/20\n",
      "327/327 [==============================] - 380s 1s/step - loss: 0.4168 - accuracy: 0.1320 - val_loss: 0.5328 - val_accuracy: 0.2727\n",
      "Epoch 3/20\n",
      "327/327 [==============================] - 378s 1s/step - loss: 0.3743 - accuracy: 0.1340 - val_loss: 0.5365 - val_accuracy: 0.2727\n",
      "Epoch 4/20\n",
      "327/327 [==============================] - 378s 1s/step - loss: 0.3719 - accuracy: 0.1321 - val_loss: 0.5348 - val_accuracy: 0.2727\n",
      "Epoch 5/20\n",
      "327/327 [==============================] - 377s 1s/step - loss: 0.3508 - accuracy: 0.1330 - val_loss: 0.5499 - val_accuracy: 0.2727\n",
      "Epoch 6/20\n",
      "327/327 [==============================] - 380s 1s/step - loss: 0.4028 - accuracy: 0.1324 - val_loss: 0.5270 - val_accuracy: 0.2424\n",
      "Epoch 7/20\n",
      "327/327 [==============================] - 378s 1s/step - loss: 0.3443 - accuracy: 0.1317 - val_loss: 0.4901 - val_accuracy: 0.2727\n",
      "Epoch 8/20\n",
      "327/327 [==============================] - 616s 2s/step - loss: 0.3378 - accuracy: 0.1309 - val_loss: 0.5702 - val_accuracy: 0.2727\n",
      "Epoch 9/20\n",
      "327/327 [==============================] - 687s 2s/step - loss: 0.3491 - accuracy: 0.1335 - val_loss: 0.5371 - val_accuracy: 0.2727\n",
      "Epoch 10/20\n",
      "327/327 [==============================] - 679s 2s/step - loss: 0.3700 - accuracy: 0.1311 - val_loss: 0.5462 - val_accuracy: 0.2727\n",
      "Epoch 11/20\n",
      "327/327 [==============================] - 665s 2s/step - loss: 0.3342 - accuracy: 0.1317 - val_loss: 0.6937 - val_accuracy: 0.2727\n",
      "Epoch 12/20\n",
      "327/327 [==============================] - 662s 2s/step - loss: 0.3488 - accuracy: 0.1327 - val_loss: 0.5261 - val_accuracy: 0.2727\n",
      "Epoch 13/20\n",
      "327/327 [==============================] - 674s 2s/step - loss: 0.3434 - accuracy: 0.1313 - val_loss: 0.6191 - val_accuracy: 0.2727\n",
      "Epoch 14/20\n",
      "327/327 [==============================] - 701s 2s/step - loss: 0.3214 - accuracy: 0.1289 - val_loss: 0.4863 - val_accuracy: 0.2727\n",
      "Epoch 15/20\n",
      "327/327 [==============================] - 700s 2s/step - loss: 0.3353 - accuracy: 0.1301 - val_loss: 0.6461 - val_accuracy: 0.2727\n",
      "Epoch 16/20\n",
      "327/327 [==============================] - 700s 2s/step - loss: 0.3591 - accuracy: 0.1311 - val_loss: 0.5620 - val_accuracy: 0.2727\n",
      "Epoch 17/20\n",
      "327/327 [==============================] - 694s 2s/step - loss: 0.3651 - accuracy: 0.1321 - val_loss: 0.5108 - val_accuracy: 0.2727\n",
      "Epoch 18/20\n",
      "327/327 [==============================] - 695s 2s/step - loss: 0.3559 - accuracy: 0.1326 - val_loss: 0.4984 - val_accuracy: 0.2727\n",
      "Epoch 19/20\n",
      "327/327 [==============================] - 693s 2s/step - loss: 0.3596 - accuracy: 0.1309 - val_loss: 0.6506 - val_accuracy: 0.2727\n",
      "Epoch 20/20\n",
      "327/327 [==============================] - 692s 2s/step - loss: 0.3575 - accuracy: 0.1308 - val_loss: 0.4796 - val_accuracy: 0.2727\n"
     ]
    }
   ],
   "source": [
    "# Compilation et entraînement du modèle\n",
    "model.compile(loss='binary_crossentropy', optimizer='rmsprop', metrics=['accuracy'])\n",
    "\n",
    "history = model.fit(train_generator, steps_per_epoch=len(train_generator), epochs=20, validation_data=validation_generator, validation_steps=len(validation_generator))\n"
   ]
  },
  {
   "cell_type": "code",
   "execution_count": 8,
   "metadata": {},
   "outputs": [
    {
     "name": "stdout",
     "output_type": "stream",
     "text": [
      "40/40 [==============================] - 37s 919ms/step - loss: 0.3677 - accuracy: 0.1880\n",
      "Test accuracy: 0.18799999356269836\n"
     ]
    }
   ],
   "source": [
    "# Évaluation du modèle sur l'ensemble de test\n",
    "test_loss, test_acc = model.evaluate(test_generator, steps=len(test_generator))\n",
    "print('Test accuracy:', test_acc)"
   ]
  },
  {
   "cell_type": "code",
   "execution_count": null,
   "metadata": {},
   "outputs": [],
   "source": []
  }
 ],
 "metadata": {
  "kernelspec": {
   "display_name": "Python 3",
   "language": "python",
   "name": "python3"
  },
  "language_info": {
   "codemirror_mode": {
    "name": "ipython",
    "version": 3
   },
   "file_extension": ".py",
   "mimetype": "text/x-python",
   "name": "python",
   "nbconvert_exporter": "python",
   "pygments_lexer": "ipython3",
   "version": "3.6.15"
  }
 },
 "nbformat": 4,
 "nbformat_minor": 4
}
